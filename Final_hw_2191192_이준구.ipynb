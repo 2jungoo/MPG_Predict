{
 "cells": [
  {
   "cell_type": "markdown",
   "id": "39901e05-1809-47a0-9b32-c3a2de236a7f",
   "metadata": {},
   "source": [
    "# **자동차 연비 예측 과제**\r\n",
    "### **Machine Learning 기말 과제**\r\n",
    "\r\n",
    "---\r\n",
    "\r\n",
    "## **1. 프로젝트 개요**\r\n",
    "- **목표**: 자동차의 특성 데이터를 기반으로 연비(MPG)를 예측하는 모델을 구축하고 평가.\r\n",
    "- **사용 데이터셋**: UCI Auto MPG Dataset\r\n",
    "  - 데이터 출처: [UCI Auto MPG Dataset](https://archive.ics.uci.edu/ml/datasets/auto+mpg)\r\n",
    "- **모델 유형**: Dense Layer 기반 신경망 (Deep Neural Network, DNN)\r\n",
    "- **과적합 방지 기법**: Early Stopping, Dropout, Regularization, Batch Normalization\r\n",
    "- **평가 지표**: Mean Absolute Error (MAE), Mean Squared Errororsepower`) 존재\r\n"
   ]
  },
  {
   "cell_type": "code",
   "execution_count": 2,
   "id": "76d3c64f-15bb-48ab-b4cc-688bda48fced",
   "metadata": {},
   "outputs": [
    {
     "name": "stdout",
     "output_type": "stream",
     "text": [
      "Defaulting to user installation because normal site-packages is not writeable\n",
      "Requirement already satisfied: pandas in c:\\programdata\\anaconda3\\lib\\site-packages (2.1.4)\n",
      "Requirement already satisfied: numpy in c:\\programdata\\anaconda3\\lib\\site-packages (1.26.4)\n",
      "Requirement already satisfied: matplotlib in c:\\programdata\\anaconda3\\lib\\site-packages (3.8.0)\n",
      "Requirement already satisfied: scikit-learn in c:\\programdata\\anaconda3\\lib\\site-packages (1.2.2)\n",
      "Requirement already satisfied: tensorflow in c:\\users\\dlwns\\appdata\\roaming\\python\\python311\\site-packages (2.18.0)\n",
      "Requirement already satisfied: python-dateutil>=2.8.2 in c:\\programdata\\anaconda3\\lib\\site-packages (from pandas) (2.8.2)\n",
      "Requirement already satisfied: pytz>=2020.1 in c:\\programdata\\anaconda3\\lib\\site-packages (from pandas) (2023.3.post1)\n",
      "Requirement already satisfied: tzdata>=2022.1 in c:\\programdata\\anaconda3\\lib\\site-packages (from pandas) (2023.3)\n",
      "Requirement already satisfied: contourpy>=1.0.1 in c:\\programdata\\anaconda3\\lib\\site-packages (from matplotlib) (1.2.0)\n",
      "Requirement already satisfied: cycler>=0.10 in c:\\programdata\\anaconda3\\lib\\site-packages (from matplotlib) (0.11.0)\n",
      "Requirement already satisfied: fonttools>=4.22.0 in c:\\programdata\\anaconda3\\lib\\site-packages (from matplotlib) (4.25.0)\n",
      "Requirement already satisfied: kiwisolver>=1.0.1 in c:\\programdata\\anaconda3\\lib\\site-packages (from matplotlib) (1.4.4)\n",
      "Requirement already satisfied: packaging>=20.0 in c:\\programdata\\anaconda3\\lib\\site-packages (from matplotlib) (23.1)\n",
      "Requirement already satisfied: pillow>=6.2.0 in c:\\programdata\\anaconda3\\lib\\site-packages (from matplotlib) (10.2.0)\n",
      "Requirement already satisfied: pyparsing>=2.3.1 in c:\\programdata\\anaconda3\\lib\\site-packages (from matplotlib) (3.0.9)\n",
      "Requirement already satisfied: scipy>=1.3.2 in c:\\programdata\\anaconda3\\lib\\site-packages (from scikit-learn) (1.11.4)\n",
      "Requirement already satisfied: joblib>=1.1.1 in c:\\programdata\\anaconda3\\lib\\site-packages (from scikit-learn) (1.2.0)\n",
      "Requirement already satisfied: threadpoolctl>=2.0.0 in c:\\programdata\\anaconda3\\lib\\site-packages (from scikit-learn) (2.2.0)\n",
      "Requirement already satisfied: tensorflow-intel==2.18.0 in c:\\users\\dlwns\\appdata\\roaming\\python\\python311\\site-packages (from tensorflow) (2.18.0)\n",
      "Requirement already satisfied: absl-py>=1.0.0 in c:\\users\\dlwns\\appdata\\roaming\\python\\python311\\site-packages (from tensorflow-intel==2.18.0->tensorflow) (2.1.0)\n",
      "Requirement already satisfied: astunparse>=1.6.0 in c:\\users\\dlwns\\appdata\\roaming\\python\\python311\\site-packages (from tensorflow-intel==2.18.0->tensorflow) (1.6.3)\n",
      "Requirement already satisfied: flatbuffers>=24.3.25 in c:\\users\\dlwns\\appdata\\roaming\\python\\python311\\site-packages (from tensorflow-intel==2.18.0->tensorflow) (24.3.25)\n",
      "Requirement already satisfied: gast!=0.5.0,!=0.5.1,!=0.5.2,>=0.2.1 in c:\\users\\dlwns\\appdata\\roaming\\python\\python311\\site-packages (from tensorflow-intel==2.18.0->tensorflow) (0.6.0)\n",
      "Requirement already satisfied: google-pasta>=0.1.1 in c:\\users\\dlwns\\appdata\\roaming\\python\\python311\\site-packages (from tensorflow-intel==2.18.0->tensorflow) (0.2.0)\n",
      "Requirement already satisfied: libclang>=13.0.0 in c:\\users\\dlwns\\appdata\\roaming\\python\\python311\\site-packages (from tensorflow-intel==2.18.0->tensorflow) (18.1.1)\n",
      "Requirement already satisfied: opt-einsum>=2.3.2 in c:\\users\\dlwns\\appdata\\roaming\\python\\python311\\site-packages (from tensorflow-intel==2.18.0->tensorflow) (3.4.0)\n",
      "Requirement already satisfied: protobuf!=4.21.0,!=4.21.1,!=4.21.2,!=4.21.3,!=4.21.4,!=4.21.5,<6.0.0dev,>=3.20.3 in c:\\programdata\\anaconda3\\lib\\site-packages (from tensorflow-intel==2.18.0->tensorflow) (3.20.3)\n",
      "Requirement already satisfied: requests<3,>=2.21.0 in c:\\programdata\\anaconda3\\lib\\site-packages (from tensorflow-intel==2.18.0->tensorflow) (2.31.0)\n",
      "Requirement already satisfied: setuptools in c:\\programdata\\anaconda3\\lib\\site-packages (from tensorflow-intel==2.18.0->tensorflow) (68.2.2)\n",
      "Requirement already satisfied: six>=1.12.0 in c:\\programdata\\anaconda3\\lib\\site-packages (from tensorflow-intel==2.18.0->tensorflow) (1.16.0)\n",
      "Requirement already satisfied: termcolor>=1.1.0 in c:\\users\\dlwns\\appdata\\roaming\\python\\python311\\site-packages (from tensorflow-intel==2.18.0->tensorflow) (2.5.0)\n",
      "Requirement already satisfied: typing-extensions>=3.6.6 in c:\\programdata\\anaconda3\\lib\\site-packages (from tensorflow-intel==2.18.0->tensorflow) (4.9.0)\n",
      "Requirement already satisfied: wrapt>=1.11.0 in c:\\programdata\\anaconda3\\lib\\site-packages (from tensorflow-intel==2.18.0->tensorflow) (1.14.1)\n",
      "Requirement already satisfied: grpcio<2.0,>=1.24.3 in c:\\users\\dlwns\\appdata\\roaming\\python\\python311\\site-packages (from tensorflow-intel==2.18.0->tensorflow) (1.66.2)\n",
      "Requirement already satisfied: tensorboard<2.19,>=2.18 in c:\\users\\dlwns\\appdata\\roaming\\python\\python311\\site-packages (from tensorflow-intel==2.18.0->tensorflow) (2.18.0)\n",
      "Requirement already satisfied: keras>=3.5.0 in c:\\users\\dlwns\\appdata\\roaming\\python\\python311\\site-packages (from tensorflow-intel==2.18.0->tensorflow) (3.7.0)\n",
      "Requirement already satisfied: h5py>=3.11.0 in c:\\users\\dlwns\\appdata\\roaming\\python\\python311\\site-packages (from tensorflow-intel==2.18.0->tensorflow) (3.12.1)\n",
      "Requirement already satisfied: ml-dtypes<0.5.0,>=0.4.0 in c:\\users\\dlwns\\appdata\\roaming\\python\\python311\\site-packages (from tensorflow-intel==2.18.0->tensorflow) (0.4.1)\n",
      "Requirement already satisfied: tensorflow-io-gcs-filesystem>=0.23.1 in c:\\users\\dlwns\\appdata\\roaming\\python\\python311\\site-packages (from tensorflow-intel==2.18.0->tensorflow) (0.31.0)\n",
      "Requirement already satisfied: wheel<1.0,>=0.23.0 in c:\\programdata\\anaconda3\\lib\\site-packages (from astunparse>=1.6.0->tensorflow-intel==2.18.0->tensorflow) (0.41.2)\n",
      "Requirement already satisfied: rich in c:\\programdata\\anaconda3\\lib\\site-packages (from keras>=3.5.0->tensorflow-intel==2.18.0->tensorflow) (13.3.5)\n",
      "Requirement already satisfied: namex in c:\\users\\dlwns\\appdata\\roaming\\python\\python311\\site-packages (from keras>=3.5.0->tensorflow-intel==2.18.0->tensorflow) (0.0.8)\n",
      "Requirement already satisfied: optree in c:\\users\\dlwns\\appdata\\roaming\\python\\python311\\site-packages (from keras>=3.5.0->tensorflow-intel==2.18.0->tensorflow) (0.13.0)\n",
      "Requirement already satisfied: charset-normalizer<4,>=2 in c:\\programdata\\anaconda3\\lib\\site-packages (from requests<3,>=2.21.0->tensorflow-intel==2.18.0->tensorflow) (2.0.4)\n",
      "Requirement already satisfied: idna<4,>=2.5 in c:\\programdata\\anaconda3\\lib\\site-packages (from requests<3,>=2.21.0->tensorflow-intel==2.18.0->tensorflow) (3.4)\n",
      "Requirement already satisfied: urllib3<3,>=1.21.1 in c:\\programdata\\anaconda3\\lib\\site-packages (from requests<3,>=2.21.0->tensorflow-intel==2.18.0->tensorflow) (2.0.7)\n",
      "Requirement already satisfied: certifi>=2017.4.17 in c:\\programdata\\anaconda3\\lib\\site-packages (from requests<3,>=2.21.0->tensorflow-intel==2.18.0->tensorflow) (2024.2.2)\n",
      "Requirement already satisfied: markdown>=2.6.8 in c:\\programdata\\anaconda3\\lib\\site-packages (from tensorboard<2.19,>=2.18->tensorflow-intel==2.18.0->tensorflow) (3.4.1)\n",
      "Requirement already satisfied: tensorboard-data-server<0.8.0,>=0.7.0 in c:\\users\\dlwns\\appdata\\roaming\\python\\python311\\site-packages (from tensorboard<2.19,>=2.18->tensorflow-intel==2.18.0->tensorflow) (0.7.2)\n",
      "Requirement already satisfied: werkzeug>=1.0.1 in c:\\programdata\\anaconda3\\lib\\site-packages (from tensorboard<2.19,>=2.18->tensorflow-intel==2.18.0->tensorflow) (2.2.3)\n",
      "Requirement already satisfied: MarkupSafe>=2.1.1 in c:\\programdata\\anaconda3\\lib\\site-packages (from werkzeug>=1.0.1->tensorboard<2.19,>=2.18->tensorflow-intel==2.18.0->tensorflow) (2.1.3)\n",
      "Requirement already satisfied: markdown-it-py<3.0.0,>=2.2.0 in c:\\programdata\\anaconda3\\lib\\site-packages (from rich->keras>=3.5.0->tensorflow-intel==2.18.0->tensorflow) (2.2.0)\n",
      "Requirement already satisfied: pygments<3.0.0,>=2.13.0 in c:\\programdata\\anaconda3\\lib\\site-packages (from rich->keras>=3.5.0->tensorflow-intel==2.18.0->tensorflow) (2.15.1)\n",
      "Requirement already satisfied: mdurl~=0.1 in c:\\programdata\\anaconda3\\lib\\site-packages (from markdown-it-py<3.0.0,>=2.2.0->rich->keras>=3.5.0->tensorflow-intel==2.18.0->tensorflow) (0.1.0)\n"
     ]
    }
   ],
   "source": [
    "# 필요한 라이브러리 설치\n",
    "!pip install pandas numpy matplotlib scikit-learn tensorflow"
   ]
  },
  {
   "cell_type": "code",
   "execution_count": 3,
   "id": "c2a650f5-d6f0-43d8-b2b0-0e79cb79fea3",
   "metadata": {},
   "outputs": [],
   "source": [
    "# 라이브러리 불러오기\n",
    "import pandas as pd\n",
    "import numpy as np\n",
    "import matplotlib.pyplot as plt\n",
    "from sklearn.model_selection import train_test_split\n",
    "from sklearn.preprocessing import StandardScaler\n",
    "from sklearn.metrics import mean_absolute_error, mean_squared_error, r2_score\n",
    "from tensorflow.keras.models import Sequential\n",
    "from tensorflow.keras.layers import Dense, Dropout, BatchNormalization\n",
    "from tensorflow.keras.callbacks import EarlyStopping\n",
    "from tensorflow.keras.regularizers import l2\n"
   ]
  },
  {
   "cell_type": "markdown",
   "id": "e5e92e66-d18b-42fe-a462-b3cae0b159b6",
   "metadata": {},
   "source": [
    "---\n",
    "## **2. 데이터 준비**\n",
    "### **2.1. 데이터 로드**\n",
    "- 데이터는 UCI Auto MPG Dataset에서 제공되며 자동차의 연비(MPG)를 예측하기 위한 특성과 타겟 변수를 포함함.\n",
    "\n",
    "### **2.2. 데이터 구조 파악**\n",
    "- 결측치 처리 및 적합한 전처리 방법을 설계하기 위해 데이터 구조를 먼저 파악함\n",
    "\n",
    "---"
   ]
  },
  {
   "cell_type": "code",
   "execution_count": 10,
   "id": "874af66f-ab6f-4e4e-8f19-de241928bab9",
   "metadata": {},
   "outputs": [
    {
     "name": "stdout",
     "output_type": "stream",
     "text": [
      "\n",
      "데이터 샘플 (상위 5개 행):\n",
      "    mpg  cylinders  displacement  horsepower  weight  acceleration  \\\n",
      "0  18.0          8         307.0       130.0  3504.0          12.0   \n",
      "1  15.0          8         350.0       165.0  3693.0          11.5   \n",
      "2  18.0          8         318.0       150.0  3436.0          11.0   \n",
      "3  16.0          8         304.0       150.0  3433.0          12.0   \n",
      "4  17.0          8         302.0       140.0  3449.0          10.5   \n",
      "\n",
      "   model_year  origin                   car_name  \n",
      "0          70       1  chevrolet chevelle malibu  \n",
      "1          70       1          buick skylark 320  \n",
      "2          70       1         plymouth satellite  \n",
      "3          70       1              amc rebel sst  \n",
      "4          70       1                ford torino  \n",
      "\n",
      "데이터 통계 요약:\n",
      "               mpg   cylinders  displacement  horsepower       weight  \\\n",
      "count   398.000000  398.000000    398.000000  392.000000   398.000000   \n",
      "unique         NaN         NaN           NaN         NaN          NaN   \n",
      "top            NaN         NaN           NaN         NaN          NaN   \n",
      "freq           NaN         NaN           NaN         NaN          NaN   \n",
      "mean     23.514573    5.454774    193.425879  104.469388  2970.424623   \n",
      "std       7.815984    1.701004    104.269838   38.491160   846.841774   \n",
      "min       9.000000    3.000000     68.000000   46.000000  1613.000000   \n",
      "25%      17.500000    4.000000    104.250000   75.000000  2223.750000   \n",
      "50%      23.000000    4.000000    148.500000   93.500000  2803.500000   \n",
      "75%      29.000000    8.000000    262.000000  126.000000  3608.000000   \n",
      "max      46.600000    8.000000    455.000000  230.000000  5140.000000   \n",
      "\n",
      "        acceleration  model_year      origin    car_name  \n",
      "count     398.000000  398.000000  398.000000         398  \n",
      "unique           NaN         NaN         NaN         305  \n",
      "top              NaN         NaN         NaN  ford pinto  \n",
      "freq             NaN         NaN         NaN           6  \n",
      "mean       15.568090   76.010050    1.572864         NaN  \n",
      "std         2.757689    3.697627    0.802055         NaN  \n",
      "min         8.000000   70.000000    1.000000         NaN  \n",
      "25%        13.825000   73.000000    1.000000         NaN  \n",
      "50%        15.500000   76.000000    1.000000         NaN  \n",
      "75%        17.175000   79.000000    2.000000         NaN  \n",
      "max        24.800000   82.000000    3.000000         NaN  \n",
      "데이터 구조 요약:\n",
      "<class 'pandas.core.frame.DataFrame'>\n",
      "RangeIndex: 398 entries, 0 to 397\n",
      "Data columns (total 9 columns):\n",
      " #   Column        Non-Null Count  Dtype  \n",
      "---  ------        --------------  -----  \n",
      " 0   mpg           398 non-null    float64\n",
      " 1   cylinders     398 non-null    int64  \n",
      " 2   displacement  398 non-null    float64\n",
      " 3   horsepower    392 non-null    float64\n",
      " 4   weight        398 non-null    float64\n",
      " 5   acceleration  398 non-null    float64\n",
      " 6   model_year    398 non-null    int64  \n",
      " 7   origin        398 non-null    int64  \n",
      " 8   car_name      398 non-null    object \n",
      "dtypes: float64(5), int64(3), object(1)\n",
      "memory usage: 28.1+ KB\n",
      "None\n"
     ]
    }
   ],
   "source": [
    "# 데이터 로드\n",
    "file_path =  r\"C:\\Users\\dlwns\\OneDrive - 한성대학교\\문서\\2024 이준구\\2학기\\머신러닝\\기말 과제 자료\\auto\\auto-mpg.data\"\n",
    "columns = ['mpg', 'cylinders', 'displacement', 'horsepower', 'weight', 'acceleration', 'model_year', 'origin', 'car_name']\n",
    "\n",
    "data = pd.read_csv(file_path, sep=r'\\s+', names=columns, na_values='?')\n",
    "\n",
    "\n",
    "print(\"\\n데이터 샘플 (상위 5개 행):\")\n",
    "print(data.head())\n",
    "\n",
    "# 통계 요약\n",
    "print(\"\\n데이터 통계 요약:\")\n",
    "print(data.describe(include='all'))\n",
    "\n",
    "# 데이터 구조 파악\n",
    "print(\"데이터 구조 요약:\")\n",
    "print(data.info())\n"
   ]
  },
  {
   "cell_type": "markdown",
   "id": "3368489b-b3d1-4be2-b6c4-70c4aa2e43ff",
   "metadata": {},
   "source": [
    "---\n",
    "\n",
    "### **2.3. 데이터 구조 분석**\n",
    "1. **데이터 크기**:\n",
    "   - 총 398개의 샘플과 9개의 컬럼이 포함되어 있음.\n",
    "2. **결측치 확인**:\n",
    "   - `horsepower` 컬럼에 결측치가 존재함 (NA 값으로 표시됨).\n",
    "3. **특성별 데이터 유형**:\n",
    "   - 연속형-float: `mpg`, `displacement`, `horsepower`, `weight`, `acceleration`\n",
    "   - 범주형-int: `cylinders`, `model_year`, `origin`\n",
    "   - 텍스트형(제거 대상): `car_name`\n",
    "4. **타겟 변수**:\n",
    "   - `mpg`(Miles Per Gallon): 자동차의 연비를 예측하는 타겟 변수.\n",
    "5. **스케일링 필요성**:\n",
    "   - 연속형 변수(`weight`, `acceleration` 등) 간의 값 범위 차이가 큼. 정규화가 필요.\n",
    "\n",
    "---\n",
    "\n",
    "### **데이터 구조를 파악한 이유**\n",
    "- 데이터 구조를 파악하여 아래와 같은 전처리 작업을 설계:\n",
    "  - **결측치(NaN) 처리**: `horsepower`의 결측값을 대체.\n",
    "  - **범주형 변수 변환**: `origin`을 원-핫 인코딩으로 처리.\n",
    "  - **불필요한 변수 제거**: `car_name`은 모델 학습에 필요하지 않으므로 제거.\n",
    "  - **정규화**: 연속형 변수를 `StandardScaler`를 사용해 스케일링.\n"
   ]
  },
  {
   "cell_type": "markdown",
   "id": "994e0c6a-f51f-426c-9073-1470918a1c98",
   "metadata": {},
   "source": [
    "---\n",
    "\n",
    "## **3. 데이터 전처리**\n",
    "### **3.1. 결측치 처리**\n",
    "- `horsepower` 행에서 결측치를 평균값으로 대체.\n",
    "\n",
    "### **3.2. 범주형 변수 처리**\n",
    "- `origin` 행을 One-Hot Encoding으로 변환.\n",
    "\n",
    "### **3.3. 불필요한 행 제거**\n",
    "- `car_name` 행 제거.\n",
    "\n",
    "### **3.4. 데이터 스케일링**\n",
    "- 모든 연속형 변수를 `StandardScaler`를 사용하여 정규화.\n",
    "\n",
    "---\n",
    "\n",
    "### **전처리 코드**\n"
   ]
  },
  {
   "cell_type": "code",
   "execution_count": 5,
   "id": "a880714f-8914-49a4-97b5-1a0143dd45d7",
   "metadata": {},
   "outputs": [
    {
     "name": "stdout",
     "output_type": "stream",
     "text": [
      "전처리 완료!\n"
     ]
    }
   ],
   "source": [
    "# 결측치 처리: horsepower 결측치는 평균값으로 대체\n",
    "data['horsepower'] = data['horsepower'].fillna(data['horsepower'].mean())\n",
    "\n",
    "# 필요 없는 열 제거: car_name 제거\n",
    "data = data.drop('car_name', axis=1)\n",
    "\n",
    "# 원-핫 인코딩: origin 열 변환\n",
    "data = pd.get_dummies(data, columns=['origin'], prefix='origin')\n",
    "\n",
    "# 독립 변수(X)와 종속 변수(y) 분리\n",
    "X = data.drop('mpg', axis=1) # mpg를 제외한 나머지 행\n",
    "y = data['mpg'] # 연비(mpg)를 타겟 변수로 설정\n",
    "\n",
    "# 데이터 분리: 학습 데이터와 테스트 데이터로 나누기\n",
    "X_train, X_test, y_train, y_test = train_test_split(X, y, test_size=0.2, random_state=42)\n",
    "\n",
    "# 데이터 스케일링: StandardScaler로 데이터를 평균 0, 표준편차 1로 정규화.\n",
    "scaler = StandardScaler()\n",
    "X_train = scaler.fit_transform(X_train)\n",
    "X_test = scaler.transform(X_test)\n",
    "\n",
    "print(\"전처리 완료!\")\n"
   ]
  },
  {
   "cell_type": "markdown",
   "id": "a08d5d6f-f9d8-4f00-8393-fd03e6c55acc",
   "metadata": {},
   "source": [
    "**fillna():**\n",
    "\n",
    "**결측치(NaN)**를 특정 값으로 대체하는 데 사용\n",
    "\n",
    "**pd.get_dummies**:\n",
    "pandas 라이브러리에서 제공하는 함수로 범주형 데이터를 원-핫 인코딩으로 변환\n",
    "\n",
    "**StandardScaler 정의:**\n",
    "데이터를 평균 0, 표준편차 1로 정규화\n",
    "\n",
    "**fit_transform():**\n",
    "\n",
    "**학습 데이터(X_train)**의 평균과 표준편차를 계산하여 스케일링\n",
    "\n",
    "**transform():**\n",
    "\n",
    "테스트 데이터(X_test)에 대해 학습 데이터의 평균과 표준편차를 사용하여 변환\n"
   ]
  },
  {
   "cell_type": "markdown",
   "id": "b8000cd0-eaa6-4aea-b685-5e49fe2f88df",
   "metadata": {},
   "source": [
    "---\n",
    "\n",
    "## **4. 신경망 모델 설계 및 학습**\n",
    "### **4.1. 모델 설계**\n",
    "- 2개의 히든 레이어 구성:\n",
    "  - 각 레이어에 Dropout과 Batch Normalization 추가.\n",
    "  - L2 정규화를 적용하여 과적합 방지.\n",
    "\n",
    "### **4.2. Early Stopping**\n",
    "- 검증 데이터의 손실(`val_loss`)이 10번의 Epoch 동안 개선되지 않을 경우 학습 중단.\n",
    "\n",
    "---\n",
    "\n",
    "### **모델 설계 코드**\n"
   ]
  },
  {
   "cell_type": "markdown",
   "id": "7f238d7a-2139-4b1b-b449-ecf8008c46a3",
   "metadata": {},
   "source": [
    "#### **모델 구성**\n",
    "1. **첫 번째 Dense Layer**:\n",
    "   - 뉴런 수: 64\n",
    "   - 활성화 함수: ReLU\n",
    "   - 과적합 방지:\n",
    "     - **L2 정규화** ( lambda = 0.01 )\n",
    "     - Dropout (30%의 뉴런 비활성화)\n",
    "     - Batch Normalization\n",
    "2. **두 번째 Dense Layer**:\n",
    "   - 뉴런 수: 32\n",
    "   - 활성화 함수: ReLU\n",
    "   - 과적합 방지:\n",
    "     - **L2 정규화** (lambda = 0.01 )\n",
    "     - Dropout (30%의 뉴런 비활성화)\n",
    "     - Batch Normalization\n",
    "3. **출력 레이어**:\n",
    "   - 뉴런 수: 1 (연속형 출력값 예측)\n",
    "\n",
    "---\n",
    "- **Dropout**:\n",
    "  - 뉴런 간의 과도한 의존성을 줄이기 위해, 학습 중 30%의 뉴런을 랜덤 비활성화.\n",
    "- **Batch Normalization**:\n",
    "  - 각 층의 출력값을 정규화하여 학습 안정화 및 속도 향상.\n",
    "- **L2 정규화**:\n",
    "  - 가중치 크기를 제어하여 모델의 복잡도를 줄이고 일반화 성능 향상. 이 상황에선 가중치를 0.01로 작게 만들어 과적합을 방지하도록 함.\n",
    "---\n",
    "### **모델 컴파일**\n",
    "#### **1) 최적화 알고리즘: Adam**\n",
    "- 학습률을 자동으로 조정하며 안정적이고 빠르게 수렴함\n",
    "#### **2) 손실 함수: MSE (Mean Squared Error)**\n",
    "- 사용 이유: 연속형 데이터 예측 문제에서 모델의 손실을 효과적으로 측정함\n",
    "#### **3) 평가 지표: MAE (Mean Absolute Error)**\n",
    "- 예측값과 실제값의 차이를 절대값으로 변환한 뒤 평균을 계산함\n",
    "### **모델 설계 코드**\n"
   ]
  },
  {
   "cell_type": "code",
   "execution_count": 17,
   "id": "a3ec7a09-4e01-4315-8cda-1e627eabad30",
   "metadata": {},
   "outputs": [
    {
     "name": "stdout",
     "output_type": "stream",
     "text": [
      "Epoch 1/100\n"
     ]
    },
    {
     "name": "stderr",
     "output_type": "stream",
     "text": [
      "C:\\Users\\dlwns\\AppData\\Roaming\\Python\\Python311\\site-packages\\keras\\src\\layers\\core\\dense.py:87: UserWarning: Do not pass an `input_shape`/`input_dim` argument to a layer. When using Sequential models, prefer using an `Input(shape)` object as the first layer in the model instead.\n",
      "  super().__init__(activity_regularizer=activity_regularizer, **kwargs)\n"
     ]
    },
    {
     "name": "stdout",
     "output_type": "stream",
     "text": [
      "\u001b[1m32/32\u001b[0m \u001b[32m━━━━━━━━━━━━━━━━━━━━\u001b[0m\u001b[37m\u001b[0m \u001b[1m2s\u001b[0m 7ms/step - loss: 567.3781 - mae: 22.4190 - val_loss: 604.2791 - val_mae: 23.4948\n",
      "Epoch 2/100\n",
      "\u001b[1m32/32\u001b[0m \u001b[32m━━━━━━━━━━━━━━━━━━━━\u001b[0m\u001b[37m\u001b[0m \u001b[1m0s\u001b[0m 3ms/step - loss: 574.1406 - mae: 22.9546 - val_loss: 577.2375 - val_mae: 23.1095\n",
      "Epoch 3/100\n",
      "\u001b[1m32/32\u001b[0m \u001b[32m━━━━━━━━━━━━━━━━━━━━\u001b[0m\u001b[37m\u001b[0m \u001b[1m0s\u001b[0m 2ms/step - loss: 580.2021 - mae: 23.3068 - val_loss: 545.0630 - val_mae: 22.5943\n",
      "Epoch 4/100\n",
      "\u001b[1m32/32\u001b[0m \u001b[32m━━━━━━━━━━━━━━━━━━━━\u001b[0m\u001b[37m\u001b[0m \u001b[1m0s\u001b[0m 2ms/step - loss: 521.4168 - mae: 22.1459 - val_loss: 511.7202 - val_mae: 22.0167\n",
      "Epoch 5/100\n",
      "\u001b[1m32/32\u001b[0m \u001b[32m━━━━━━━━━━━━━━━━━━━━\u001b[0m\u001b[37m\u001b[0m \u001b[1m0s\u001b[0m 3ms/step - loss: 508.3111 - mae: 22.0232 - val_loss: 472.8537 - val_mae: 21.2593\n",
      "Epoch 6/100\n",
      "\u001b[1m32/32\u001b[0m \u001b[32m━━━━━━━━━━━━━━━━━━━━\u001b[0m\u001b[37m\u001b[0m \u001b[1m0s\u001b[0m 3ms/step - loss: 476.5594 - mae: 21.3873 - val_loss: 433.9667 - val_mae: 20.4312\n",
      "Epoch 7/100\n",
      "\u001b[1m32/32\u001b[0m \u001b[32m━━━━━━━━━━━━━━━━━━━━\u001b[0m\u001b[37m\u001b[0m \u001b[1m0s\u001b[0m 3ms/step - loss: 450.3200 - mae: 20.6746 - val_loss: 396.1052 - val_mae: 19.5565\n",
      "Epoch 8/100\n",
      "\u001b[1m32/32\u001b[0m \u001b[32m━━━━━━━━━━━━━━━━━━━━\u001b[0m\u001b[37m\u001b[0m \u001b[1m0s\u001b[0m 2ms/step - loss: 379.4706 - mae: 18.9482 - val_loss: 355.7929 - val_mae: 18.5274\n",
      "Epoch 9/100\n",
      "\u001b[1m32/32\u001b[0m \u001b[32m━━━━━━━━━━━━━━━━━━━━\u001b[0m\u001b[37m\u001b[0m \u001b[1m0s\u001b[0m 2ms/step - loss: 391.0594 - mae: 19.0407 - val_loss: 322.8319 - val_mae: 17.6277\n",
      "Epoch 10/100\n",
      "\u001b[1m32/32\u001b[0m \u001b[32m━━━━━━━━━━━━━━━━━━━━\u001b[0m\u001b[37m\u001b[0m \u001b[1m0s\u001b[0m 3ms/step - loss: 339.2359 - mae: 17.9126 - val_loss: 290.5133 - val_mae: 16.6877\n",
      "Epoch 11/100\n",
      "\u001b[1m32/32\u001b[0m \u001b[32m━━━━━━━━━━━━━━━━━━━━\u001b[0m\u001b[37m\u001b[0m \u001b[1m0s\u001b[0m 2ms/step - loss: 317.8801 - mae: 17.0821 - val_loss: 249.7435 - val_mae: 15.4242\n",
      "Epoch 12/100\n",
      "\u001b[1m32/32\u001b[0m \u001b[32m━━━━━━━━━━━━━━━━━━━━\u001b[0m\u001b[37m\u001b[0m \u001b[1m0s\u001b[0m 3ms/step - loss: 298.0006 - mae: 16.5784 - val_loss: 215.8502 - val_mae: 14.2410\n",
      "Epoch 13/100\n",
      "\u001b[1m32/32\u001b[0m \u001b[32m━━━━━━━━━━━━━━━━━━━━\u001b[0m\u001b[37m\u001b[0m \u001b[1m0s\u001b[0m 3ms/step - loss: 212.0292 - mae: 13.6976 - val_loss: 179.4966 - val_mae: 12.9342\n",
      "Epoch 14/100\n",
      "\u001b[1m32/32\u001b[0m \u001b[32m━━━━━━━━━━━━━━━━━━━━\u001b[0m\u001b[37m\u001b[0m \u001b[1m0s\u001b[0m 3ms/step - loss: 229.3436 - mae: 14.1187 - val_loss: 158.6059 - val_mae: 12.0939\n",
      "Epoch 15/100\n",
      "\u001b[1m32/32\u001b[0m \u001b[32m━━━━━━━━━━━━━━━━━━━━\u001b[0m\u001b[37m\u001b[0m \u001b[1m0s\u001b[0m 3ms/step - loss: 148.7980 - mae: 11.2062 - val_loss: 134.0893 - val_mae: 11.0077\n",
      "Epoch 16/100\n",
      "\u001b[1m32/32\u001b[0m \u001b[32m━━━━━━━━━━━━━━━━━━━━\u001b[0m\u001b[37m\u001b[0m \u001b[1m0s\u001b[0m 3ms/step - loss: 133.7419 - mae: 10.3277 - val_loss: 107.1076 - val_mae: 9.6984\n",
      "Epoch 17/100\n",
      "\u001b[1m32/32\u001b[0m \u001b[32m━━━━━━━━━━━━━━━━━━━━\u001b[0m\u001b[37m\u001b[0m \u001b[1m0s\u001b[0m 2ms/step - loss: 111.3234 - mae: 9.1147 - val_loss: 80.5809 - val_mae: 8.2450\n",
      "Epoch 18/100\n",
      "\u001b[1m32/32\u001b[0m \u001b[32m━━━━━━━━━━━━━━━━━━━━\u001b[0m\u001b[37m\u001b[0m \u001b[1m0s\u001b[0m 3ms/step - loss: 86.3953 - mae: 8.2244 - val_loss: 59.5033 - val_mae: 6.8955\n",
      "Epoch 19/100\n",
      "\u001b[1m32/32\u001b[0m \u001b[32m━━━━━━━━━━━━━━━━━━━━\u001b[0m\u001b[37m\u001b[0m \u001b[1m0s\u001b[0m 3ms/step - loss: 68.1520 - mae: 6.9015 - val_loss: 46.3241 - val_mae: 5.7757\n",
      "Epoch 20/100\n",
      "\u001b[1m32/32\u001b[0m \u001b[32m━━━━━━━━━━━━━━━━━━━━\u001b[0m\u001b[37m\u001b[0m \u001b[1m0s\u001b[0m 2ms/step - loss: 61.9328 - mae: 6.4661 - val_loss: 30.7664 - val_mae: 4.5367\n",
      "Epoch 21/100\n",
      "\u001b[1m32/32\u001b[0m \u001b[32m━━━━━━━━━━━━━━━━━━━━\u001b[0m\u001b[37m\u001b[0m \u001b[1m0s\u001b[0m 3ms/step - loss: 41.5959 - mae: 5.2103 - val_loss: 28.6794 - val_mae: 4.2198\n",
      "Epoch 22/100\n",
      "\u001b[1m32/32\u001b[0m \u001b[32m━━━━━━━━━━━━━━━━━━━━\u001b[0m\u001b[37m\u001b[0m \u001b[1m0s\u001b[0m 3ms/step - loss: 34.8106 - mae: 4.6628 - val_loss: 23.4165 - val_mae: 3.8277\n",
      "Epoch 23/100\n",
      "\u001b[1m32/32\u001b[0m \u001b[32m━━━━━━━━━━━━━━━━━━━━\u001b[0m\u001b[37m\u001b[0m \u001b[1m0s\u001b[0m 3ms/step - loss: 34.8538 - mae: 4.7143 - val_loss: 19.0044 - val_mae: 3.2516\n",
      "Epoch 24/100\n",
      "\u001b[1m32/32\u001b[0m \u001b[32m━━━━━━━━━━━━━━━━━━━━\u001b[0m\u001b[37m\u001b[0m \u001b[1m0s\u001b[0m 3ms/step - loss: 31.2385 - mae: 4.2821 - val_loss: 17.2256 - val_mae: 3.1201\n",
      "Epoch 25/100\n",
      "\u001b[1m32/32\u001b[0m \u001b[32m━━━━━━━━━━━━━━━━━━━━\u001b[0m\u001b[37m\u001b[0m \u001b[1m0s\u001b[0m 3ms/step - loss: 27.2891 - mae: 3.9938 - val_loss: 13.3166 - val_mae: 2.7638\n",
      "Epoch 26/100\n",
      "\u001b[1m32/32\u001b[0m \u001b[32m━━━━━━━━━━━━━━━━━━━━\u001b[0m\u001b[37m\u001b[0m \u001b[1m0s\u001b[0m 3ms/step - loss: 29.8300 - mae: 4.1573 - val_loss: 12.1671 - val_mae: 2.6135\n",
      "Epoch 27/100\n",
      "\u001b[1m32/32\u001b[0m \u001b[32m━━━━━━━━━━━━━━━━━━━━\u001b[0m\u001b[37m\u001b[0m \u001b[1m0s\u001b[0m 3ms/step - loss: 28.4148 - mae: 4.1161 - val_loss: 11.8049 - val_mae: 2.5957\n",
      "Epoch 28/100\n",
      "\u001b[1m32/32\u001b[0m \u001b[32m━━━━━━━━━━━━━━━━━━━━\u001b[0m\u001b[37m\u001b[0m \u001b[1m0s\u001b[0m 3ms/step - loss: 23.2090 - mae: 3.8000 - val_loss: 11.1533 - val_mae: 2.5028\n",
      "Epoch 29/100\n",
      "\u001b[1m32/32\u001b[0m \u001b[32m━━━━━━━━━━━━━━━━━━━━\u001b[0m\u001b[37m\u001b[0m \u001b[1m0s\u001b[0m 3ms/step - loss: 23.5201 - mae: 3.8399 - val_loss: 11.2090 - val_mae: 2.4989\n",
      "Epoch 30/100\n",
      "\u001b[1m32/32\u001b[0m \u001b[32m━━━━━━━━━━━━━━━━━━━━\u001b[0m\u001b[37m\u001b[0m \u001b[1m0s\u001b[0m 2ms/step - loss: 23.0547 - mae: 3.5181 - val_loss: 12.6601 - val_mae: 2.7994\n",
      "Epoch 31/100\n",
      "\u001b[1m32/32\u001b[0m \u001b[32m━━━━━━━━━━━━━━━━━━━━\u001b[0m\u001b[37m\u001b[0m \u001b[1m0s\u001b[0m 3ms/step - loss: 26.1212 - mae: 4.0546 - val_loss: 11.6997 - val_mae: 2.6619\n",
      "Epoch 32/100\n",
      "\u001b[1m32/32\u001b[0m \u001b[32m━━━━━━━━━━━━━━━━━━━━\u001b[0m\u001b[37m\u001b[0m \u001b[1m0s\u001b[0m 3ms/step - loss: 26.1610 - mae: 3.9847 - val_loss: 10.8137 - val_mae: 2.4842\n",
      "Epoch 33/100\n",
      "\u001b[1m32/32\u001b[0m \u001b[32m━━━━━━━━━━━━━━━━━━━━\u001b[0m\u001b[37m\u001b[0m \u001b[1m0s\u001b[0m 2ms/step - loss: 24.3426 - mae: 3.9692 - val_loss: 10.0233 - val_mae: 2.3942\n",
      "Epoch 34/100\n",
      "\u001b[1m32/32\u001b[0m \u001b[32m━━━━━━━━━━━━━━━━━━━━\u001b[0m\u001b[37m\u001b[0m \u001b[1m0s\u001b[0m 3ms/step - loss: 20.0691 - mae: 3.5094 - val_loss: 10.2296 - val_mae: 2.4257\n",
      "Epoch 35/100\n",
      "\u001b[1m32/32\u001b[0m \u001b[32m━━━━━━━━━━━━━━━━━━━━\u001b[0m\u001b[37m\u001b[0m \u001b[1m0s\u001b[0m 2ms/step - loss: 22.9802 - mae: 3.7858 - val_loss: 10.8907 - val_mae: 2.5743\n",
      "Epoch 36/100\n",
      "\u001b[1m32/32\u001b[0m \u001b[32m━━━━━━━━━━━━━━━━━━━━\u001b[0m\u001b[37m\u001b[0m \u001b[1m0s\u001b[0m 2ms/step - loss: 22.9219 - mae: 3.6571 - val_loss: 11.0691 - val_mae: 2.5457\n",
      "Epoch 37/100\n",
      "\u001b[1m32/32\u001b[0m \u001b[32m━━━━━━━━━━━━━━━━━━━━\u001b[0m\u001b[37m\u001b[0m \u001b[1m0s\u001b[0m 3ms/step - loss: 29.0016 - mae: 4.1523 - val_loss: 10.3167 - val_mae: 2.4912\n",
      "Epoch 38/100\n",
      "\u001b[1m32/32\u001b[0m \u001b[32m━━━━━━━━━━━━━━━━━━━━\u001b[0m\u001b[37m\u001b[0m \u001b[1m0s\u001b[0m 2ms/step - loss: 26.1407 - mae: 3.9478 - val_loss: 10.9467 - val_mae: 2.5633\n",
      "Epoch 39/100\n",
      "\u001b[1m32/32\u001b[0m \u001b[32m━━━━━━━━━━━━━━━━━━━━\u001b[0m\u001b[37m\u001b[0m \u001b[1m0s\u001b[0m 2ms/step - loss: 22.6250 - mae: 3.6299 - val_loss: 10.7246 - val_mae: 2.5784\n",
      "Epoch 40/100\n",
      "\u001b[1m32/32\u001b[0m \u001b[32m━━━━━━━━━━━━━━━━━━━━\u001b[0m\u001b[37m\u001b[0m \u001b[1m0s\u001b[0m 3ms/step - loss: 25.6515 - mae: 3.8508 - val_loss: 10.7015 - val_mae: 2.5747\n",
      "Epoch 41/100\n",
      "\u001b[1m32/32\u001b[0m \u001b[32m━━━━━━━━━━━━━━━━━━━━\u001b[0m\u001b[37m\u001b[0m \u001b[1m0s\u001b[0m 3ms/step - loss: 19.6387 - mae: 3.4942 - val_loss: 11.6615 - val_mae: 2.6786\n",
      "Epoch 42/100\n",
      "\u001b[1m32/32\u001b[0m \u001b[32m━━━━━━━━━━━━━━━━━━━━\u001b[0m\u001b[37m\u001b[0m \u001b[1m0s\u001b[0m 3ms/step - loss: 26.8329 - mae: 4.1689 - val_loss: 11.7688 - val_mae: 2.6954\n",
      "Epoch 43/100\n",
      "\u001b[1m32/32\u001b[0m \u001b[32m━━━━━━━━━━━━━━━━━━━━\u001b[0m\u001b[37m\u001b[0m \u001b[1m0s\u001b[0m 3ms/step - loss: 24.7103 - mae: 3.8524 - val_loss: 11.5166 - val_mae: 2.6685\n",
      "모델 학습 완료!\n"
     ]
    }
   ],
   "source": [
    "# 신경망 모델 구성\n",
    "model = Sequential([\n",
    "    Dense(64, activation='relu', kernel_regularizer=l2(0.01), input_shape=(X_train.shape[1],)),\n",
    "    Dropout(0.3),  # 과적합 방지 & 30%의 뉴런 비활성화\n",
    "    BatchNormalization(),  # 안정적인 학습\n",
    "    Dense(32, activation='relu', kernel_regularizer=l2(0.01)),\n",
    "    Dropout(0.3),  # 과적합 방지 & 30%의 뉴런 비활성화\n",
    "    BatchNormalization(),  # 안정적인 학습\n",
    "    Dense(1)  # 출력층// 연속형 값을 예측하므로 활성화 함수 지정 없음(기본: 선형 활성화)\n",
    "])\n",
    "\n",
    "# 모델 컴파일\n",
    "model.compile(optimizer='adam', loss='mse', metrics=['mae'])\n",
    "\n",
    "# Early Stopping 정의\n",
    "early_stopping = EarlyStopping(monitor='val_loss', patience=10, restore_best_weights=True)\n",
    "\n",
    "# 모델 학습\n",
    "history = model.fit(\n",
    "    X_train, y_train,\n",
    "    epochs=100,             # 최대 Epoch 수\n",
    "    batch_size=8,           # 한 번에 8개의 샘플을 사용해 가중치를 업데이트\n",
    "    validation_split=0.2,   # 검증 데이터 비율 20%\n",
    "    callbacks=[early_stopping]  # early stopping으로 과적합 방지\n",
    ")\n",
    "\n",
    "print(\"모델 학습 완료!\")\n"
   ]
  },
  {
   "cell_type": "markdown",
   "id": "2ee2cd53-f00c-4894-aee0-f442df5e3cf7",
   "metadata": {},
   "source": [
    "## **학습 손실 시각화**\n",
    "- Training Loss와 Validation Loss 비교\n",
    "- 학습 손실(Training Loss)과 검증 손실(Validation Loss)을 비교하여 과적합 여부를 확인\n",
    "- 검증 손실이 학습 손실보다 높아지지 않고 안정적으로 유지됨\n"
   ]
  },
  {
   "cell_type": "code",
   "execution_count": 18,
   "id": "06b381f5-adf1-4449-ac97-050f3567a497",
   "metadata": {
    "scrolled": true
   },
   "outputs": [
    {
     "data": {
      "image/png": "[encoded data removed]",
      "text/plain": [
       "<Figure size 800x400 with 1 Axes>"
      ]
     },
     "metadata": {},
     "output_type": "display_data"
    }
   ],
   "source": [
    "# 학습 손실 시각화 \n",
    "plt.figure(figsize=(8, 4)) \n",
    "plt.plot(history.history['loss'], label='Training Loss', color='blue', linewidth=2)\n",
    "plt.plot(history.history['val_loss'], label='Validation Loss', color='orange', linewidth=2)\n",
    "plt.title('Training and Validation Loss', fontsize=14)\n",
    "plt.xlabel('Epochs', fontsize=12)\n",
    "plt.ylabel('Loss', fontsize=12)\n",
    "plt.legend(fontsize=10)\n",
    "plt.grid(True, linestyle='--', alpha=0.6)\n",
    "plt.tight_layout() \n",
    "plt.show()\n"
   ]
  },
  {
   "cell_type": "markdown",
   "id": "22188bbb-233e-4dd1-9910-c5c7a2f46181",
   "metadata": {},
   "source": [
    "---\n",
    "\n",
    "## **5. 모델 평가**\n",
    "- **Mean Absolute Error (MAE)**: 평균 절대 오차\n",
    "- **Mean Squared Error (MSE)**: 평균 제곱 오차\n",
    "- **R² Score**: 결정 계수, 1에 가까울수록 데이터를 잘 설명함\n",
    "\n",
    "---\n",
    "\n",
    "### **평가 코드**\n"
   ]
  },
  {
   "cell_type": "code",
   "execution_count": 8,
   "id": "57ed05a1-ee55-4ceb-b9c0-7e81dde3d23e",
   "metadata": {},
   "outputs": [
    {
     "name": "stdout",
     "output_type": "stream",
     "text": [
      "\u001b[1m3/3\u001b[0m \u001b[32m━━━━━━━━━━━━━━━━━━━━\u001b[0m\u001b[37m\u001b[0m \u001b[1m0s\u001b[0m 34ms/step\n",
      "평균 절대 오차 (MAE): 2.14\n",
      "평균 제곱 오차 (MSE): 8.27\n",
      "결정 계수 (R²): 0.85\n"
     ]
    }
   ],
   "source": [
    "# 모델 평가\n",
    "y_pred = model.predict(X_test)\n",
    "\n",
    "# 평가 지표 계산\n",
    "mae = mean_absolute_error(y_test, y_pred)\n",
    "mse = mean_squared_error(y_test, y_pred)\n",
    "r2 = r2_score(y_test, y_pred)\n",
    "\n",
    "print(f\"평균 절대 오차 (MAE): {mae:.2f}\")\n",
    "print(f\"평균 제곱 오차 (MSE): {mse:.2f}\")\n",
    "print(f\"결정 계수 (R²): {r2:.2f}\")\n"
   ]
  },
  {
   "cell_type": "markdown",
   "id": "4a861047-e12a-4770-a573-011b19eca744",
   "metadata": {},
   "source": [
    "## **6. 결과 시각화**\n",
    "* 실제 vs 예측 값\n",
    "- 실제 연비 값과 모델이 예측한 연비 값을 비교한 결과\n",
    "- 점들이 빨간 선(y=x)에 가까울수록 모델이 정확히 예측한 것.\n",
    "---\n",
    "### **결과 시각화 코드***\n"
   ]
  },
  {
   "cell_type": "code",
   "execution_count": 19,
   "id": "1ca0c040-0f7c-42ee-ad20-b85aab9f6c42",
   "metadata": {},
   "outputs": [
    {
     "data": {
      "image/png": "[encoded data removed]",
      "text/plain": [
       "<Figure size 800x400 with 1 Axes>"
      ]
     },
     "metadata": {},
     "output_type": "display_data"
    }
   ],
   "source": [
    "# 실제 값 vs 예측 값\n",
    "plt.figure(figsize=(8, 4))\n",
    "plt.scatter(y_test, y_pred, alpha=0.7, color='blue')\n",
    "plt.plot([y_test.min(), y_test.max()], [y_test.min(), y_test.max()], color='red', linestyle='--')\n",
    "plt.title('Actual MPG vs Predicted MPG')\n",
    "plt.xlabel('Actual MPG')\n",
    "plt.ylabel('Predicted MPG')\n",
    "plt.grid()\n",
    "plt.show()\n"
   ]
  },
  {
   "cell_type": "markdown",
   "id": "8a35b51f-39fb-4b53-9173-d75ee3127a07",
   "metadata": {},
   "source": [
    "감사합니다!**\r\n"
   ]
  },
  {
   "cell_type": "markdown",
   "id": "4af47d6b-684e-419e-9f60-d9e78345df59",
   "metadata": {},
   "source": [
    "---\n",
    "\n",
    "## **7. 최종 결론**\n",
    "- **Dense Layer 기반 신경망**을 사용하여 자동차 연비 예측 모델을 성공적으로 구축.\n",
    "- 과적합 방지 기법을 사용하여 모델의 일반화 향상.\n",
    "- 시각화를 통해 모델의 예측 성능을 검증.\n",
    "\n",
    "---\n",
    "\n",
    "**감사합니다!**\n"
   ]
  },
  {
   "cell_type": "code",
   "execution_count": null,
   "id": "5a166535-0e70-4df3-84e4-96cb6a401a38",
   "metadata": {},
   "outputs": [],
   "source": []
  },
  {
   "cell_type": "code",
   "execution_count": null,
   "id": "aa984050-407e-4379-b3d6-43b5fc57879a",
   "metadata": {},
   "outputs": [],
   "source": []
  },
  {
   "cell_type": "code",
   "execution_count": null,
   "id": "80ca0999-9e9a-414b-9f74-a8c9ac16ce7f",
   "metadata": {},
   "outputs": [],
   "source": []
  }
 ],
 "metadata": {
  "kernelspec": {
   "display_name": "Python 3 (ipykernel)",
   "language": "python",
   "name": "python3"
  },
  "language_info": {
   "codemirror_mode": {
    "name": "ipython",
    "version": 3
   },
   "file_extension": ".py",
   "mimetype": "text/x-python",
   "name": "python",
   "nbconvert_exporter": "python",
   "pygments_lexer": "ipython3",
   "version": "3.11.7"
  }
 },
 "nbformat": 4,
 "nbformat_minor": 5
}
